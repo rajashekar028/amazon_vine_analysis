{
 "cells": [
  {
   "cell_type": "markdown",
   "metadata": {
    "id": "view-in-github"
   },
   "source": [
    "<a href=\"https://colab.research.google.com/github/mciano/Amazon_Vine_Analysis/blob/main/Amazon_Reviews_ETL.ipynb\" target=\"_parent\"><img src=\"https://colab.research.google.com/assets/colab-badge.svg\" alt=\"Open In Colab\"/></a>"
   ]
  },
  {
   "cell_type": "code",
   "execution_count": 24,
   "metadata": {
    "colab": {
     "base_uri": "https://localhost:8080/"
    },
    "executionInfo": {
     "elapsed": 38880,
     "status": "ok",
     "timestamp": 1645500633237,
     "user": {
      "displayName": "Marcio Ciano",
      "photoUrl": "https://lh3.googleusercontent.com/a-/AOh14GhA9U2b1fqTXfRFydiRaZR1NyApGFXApOw4EToOIVU=s64",
      "userId": "15135319980514283613"
     },
     "user_tz": 300
    },
    "id": "V58rxea0HqSa",
    "outputId": "1258a212-da13-4597-df9a-e73a82cc91ff"
   },
   "outputs": [
    {
     "name": "stdout",
     "output_type": "stream",
     "text": [
      "Hit:1 https://cloud.r-project.org/bin/linux/ubuntu bionic-cran40/ InRelease\n",
      "Ign:2 https://developer.download.nvidia.com/compute/cuda/repos/ubuntu1804/x86_64  InRelease\n",
      "Get:3 http://security.ubuntu.com/ubuntu bionic-security InRelease [88.7 kB]\n",
      "Hit:4 http://ppa.launchpad.net/c2d4u.team/c2d4u4.0+/ubuntu bionic InRelease\n",
      "Ign:5 https://developer.download.nvidia.com/compute/machine-learning/repos/ubuntu1804/x86_64  InRelease\n",
      "Hit:6 https://developer.download.nvidia.com/compute/cuda/repos/ubuntu1804/x86_64  Release\n",
      "Hit:7 https://developer.download.nvidia.com/compute/machine-learning/repos/ubuntu1804/x86_64  Release\n",
      "Hit:8 http://archive.ubuntu.com/ubuntu bionic InRelease\n",
      "Hit:9 http://ppa.launchpad.net/cran/libgit2/ubuntu bionic InRelease\n",
      "Get:10 http://archive.ubuntu.com/ubuntu bionic-updates InRelease [88.7 kB]\n",
      "Hit:13 http://ppa.launchpad.net/deadsnakes/ppa/ubuntu bionic InRelease\n",
      "Get:14 http://archive.ubuntu.com/ubuntu bionic-backports InRelease [74.6 kB]\n",
      "Hit:15 http://ppa.launchpad.net/graphics-drivers/ppa/ubuntu bionic InRelease\n",
      "Fetched 252 kB in 3s (79.7 kB/s)\n",
      "Reading package lists... Done\n"
     ]
    }
   ],
   "source": [
    "import os\n",
    "# Find the latest version of spark 3.0 from http://www.apache.org/dist/spark/ and enter as the spark version\n",
    "# For example:\n",
    "# spark_version = 'spark-3.0.3'\n",
    "spark_version = 'spark-3.0.3'\n",
    "os.environ['SPARK_VERSION']=spark_version\n",
    "\n",
    "# Install Spark and Java\n",
    "!apt-get update\n",
    "!apt-get install openjdk-11-jdk-headless -qq > /dev/null\n",
    "!wget -q http://www.apache.org/dist/spark/$SPARK_VERSION/$SPARK_VERSION-bin-hadoop2.7.tgz\n",
    "!tar xf $SPARK_VERSION-bin-hadoop2.7.tgz\n",
    "!pip install -q findspark\n",
    "\n",
    "# Set Environment Variables\n",
    "import os\n",
    "os.environ[\"JAVA_HOME\"] = \"/usr/lib/jvm/java-11-openjdk-amd64\"\n",
    "os.environ[\"SPARK_HOME\"] = f\"/content/{spark_version}-bin-hadoop2.7\"\n",
    "\n",
    "# Start a SparkSession\n",
    "import findspark\n",
    "findspark.init()"
   ]
  },
  {
   "cell_type": "code",
   "execution_count": 25,
   "metadata": {
    "colab": {
     "base_uri": "https://localhost:8080/"
    },
    "executionInfo": {
     "elapsed": 2128,
     "status": "ok",
     "timestamp": 1645500635355,
     "user": {
      "displayName": "Marcio Ciano",
      "photoUrl": "https://lh3.googleusercontent.com/a-/AOh14GhA9U2b1fqTXfRFydiRaZR1NyApGFXApOw4EToOIVU=s64",
      "userId": "15135319980514283613"
     },
     "user_tz": 300
    },
    "id": "_xKwTpATHqSe",
    "outputId": "1ccfa1de-cf96-4875-fa51-c1bf67ebe424"
   },
   "outputs": [
    {
     "name": "stdout",
     "output_type": "stream",
     "text": [
      "--2022-02-22 03:30:32--  https://jdbc.postgresql.org/download/postgresql-42.2.16.jar\n",
      "Resolving jdbc.postgresql.org (jdbc.postgresql.org)... 72.32.157.228, 2001:4800:3e1:1::228\n",
      "Connecting to jdbc.postgresql.org (jdbc.postgresql.org)|72.32.157.228|:443... connected.\n",
      "HTTP request sent, awaiting response... 200 OK\n",
      "Length: 1002883 (979K) [application/java-archive]\n",
      "Saving to: ‘postgresql-42.2.16.jar.1’\n",
      "\n",
      "postgresql-42.2.16. 100%[===================>] 979.38K  1.22MB/s    in 0.8s    \n",
      "\n",
      "2022-02-22 03:30:34 (1.22 MB/s) - ‘postgresql-42.2.16.jar.1’ saved [1002883/1002883]\n",
      "\n"
     ]
    }
   ],
   "source": [
    "# Download the Postgres driver that will allow Spark to interact with Postgres.\n",
    "!wget https://jdbc.postgresql.org/download/postgresql-42.2.16.jar"
   ]
  },
  {
   "cell_type": "code",
   "execution_count": 26,
   "metadata": {
    "executionInfo": {
     "elapsed": 7,
     "status": "ok",
     "timestamp": 1645500635356,
     "user": {
      "displayName": "Marcio Ciano",
      "photoUrl": "https://lh3.googleusercontent.com/a-/AOh14GhA9U2b1fqTXfRFydiRaZR1NyApGFXApOw4EToOIVU=s64",
      "userId": "15135319980514283613"
     },
     "user_tz": 300
    },
    "id": "MMqDAjVS0KN9"
   },
   "outputs": [],
   "source": [
    "from pyspark.sql import SparkSession\n",
    "spark = SparkSession.builder.appName(\"M16-Amazon-Challenge\").config(\"spark.driver.extraClassPath\",\"/content/postgresql-42.2.16.jar\").getOrCreate()"
   ]
  },
  {
   "cell_type": "markdown",
   "metadata": {
    "id": "cyBsySGuY-9V"
   },
   "source": [
    "### Load Amazon Data into Spark DataFrame"
   ]
  },
  {
   "cell_type": "code",
   "execution_count": 27,
   "metadata": {
    "colab": {
     "base_uri": "https://localhost:8080/"
    },
    "executionInfo": {
     "elapsed": 9884,
     "status": "ok",
     "timestamp": 1645500645234,
     "user": {
      "displayName": "Marcio Ciano",
      "photoUrl": "https://lh3.googleusercontent.com/a-/AOh14GhA9U2b1fqTXfRFydiRaZR1NyApGFXApOw4EToOIVU=s64",
      "userId": "15135319980514283613"
     },
     "user_tz": 300
    },
    "id": "CtCmBhQJY-9Z",
    "outputId": "dcee1eca-7188-421a-d45e-2e1554741b8c"
   },
   "outputs": [
    {
     "name": "stdout",
     "output_type": "stream",
     "text": [
      "+-----------+-----------+--------------+----------+--------------+--------------------+-------------------+-----------+-------------+-----------+----+-----------------+--------------------+--------------------+-----------+\n",
      "|marketplace|customer_id|     review_id|product_id|product_parent|       product_title|   product_category|star_rating|helpful_votes|total_votes|vine|verified_purchase|     review_headline|         review_body|review_date|\n",
      "+-----------+-----------+--------------+----------+--------------+--------------------+-------------------+-----------+-------------+-----------+----+-----------------+--------------------+--------------------+-----------+\n",
      "|         US|   45610553| RMDCHWD0Y5OZ9|B00HH62VB6|     618218723|AGPtek® 10 Isolat...|Musical Instruments|          3|            0|          1|   N|                N|         Three Stars|Works very good, ...| 2015-08-31|\n",
      "|         US|   14640079| RZSL0BALIYUNU|B003LRN53I|     986692292|Sennheiser HD203 ...|Musical Instruments|          5|            0|          0|   N|                Y|          Five Stars|Nice headphones a...| 2015-08-31|\n",
      "|         US|    6111003| RIZR67JKUDBI0|B0006VMBHI|     603261968|AudioQuest LP rec...|Musical Instruments|          3|            0|          1|   N|                Y|         Three Stars|removes dust. doe...| 2015-08-31|\n",
      "|         US|    1546619|R27HL570VNL85F|B002B55TRG|     575084461|Hohner Inc. 560BX...|Musical Instruments|          5|            0|          0|   N|                Y|I purchase these ...|I purchase these ...| 2015-08-31|\n",
      "|         US|   12222213|R34EBU9QDWJ1GD|B00N1YPXW2|     165236328|Blue Yeti USB Mic...|Musical Instruments|          5|            0|          0|   N|                Y|          Five Stars|This is an awesom...| 2015-08-31|\n",
      "|         US|   46018513|R1WCUI4Z1SIQEO|B001N4GRGS|     134151483|Middle Atlantic P...|Musical Instruments|          5|            0|          0|   N|                N|          Five Stars|Used to cool equi...| 2015-08-31|\n",
      "|         US|   10225065| RL5LNO26GAVJ1|B009PJRMHQ|     694166585|Kmise 1pc Pickgua...|Musical Instruments|          2|            3|          4|   N|                Y|Will not Fit Epip...|Note- Does not Fi...| 2015-08-31|\n",
      "|         US|    6356995|R3GYQ5W8JHP8SB|B00NKBDAZS|     446431775|Kealoha Concert U...|Musical Instruments|          5|            0|          0|   N|                Y|          Five Stars|Well built Ukulel...| 2015-08-31|\n",
      "|         US|   35297198|R30SHYQXGG5EYC|B006MIU7U2|     125871705|Halco 80000 - MR1...|Musical Instruments|          5|            0|          0|   N|                Y|Works fine. Hope ...|Had to replace a ...| 2015-08-31|\n",
      "|         US|   32139520|R14YLXA56NP51I|B000FIBD0I|     771888534|Gator GPTBLACK Pl...|Musical Instruments|          5|            1|          1|   N|                N|I upgraded the po...|I've owned multip...| 2015-08-31|\n",
      "|         US|   36060782|R1ZH0HSH38IOTZ|B0002E52GG|      68535945|Hetman 1 - Light ...|Musical Instruments|          5|            0|          0|   N|                Y|My son's favourit...|Consistent qualit...| 2015-08-31|\n",
      "|         US|    5301309|R3H53KLLC210XI|B00RZIH52G|     725541773|Dragonpad pop fil...|Musical Instruments|          4|            0|          0|   N|                Y|Great pop filter ...|by far the best p...| 2015-08-31|\n",
      "|         US|   37472935|R3OOR877NGA8JK|B001792BAU|      46570323|DharmaObjects Rel...|Musical Instruments|          3|            0|          0|   N|                Y|                  Ok|Beautiful set. On...| 2015-08-31|\n",
      "|         US|   33578270|R1BY7WKOZ3KMH0|B009GSKW1Y|     547963417|Musiclily SSS Pla...|Musical Instruments|          2|            0|          0|   N|                Y|           Two Stars|Bridge pickup was...| 2015-08-31|\n",
      "|         US|   22070226| RXP1TFSWE8EG9|B0002F4TKA|     436074323|Vic Firth America...|Musical Instruments|          5|            0|          0|   N|                Y|          Five Stars|Feels good and la...| 2015-08-31|\n",
      "|         US|   52862655|R3J44DPP12OTLJ|B00K17YFBW|      81933093|Guitar Stand for ...|Musical Instruments|          5|            0|          0|   N|                Y|Great stand... on...|I love the stand....| 2015-08-31|\n",
      "|         US|    4427243| RFOV69SK0T676|B00EQ24HJS|     669249276|Generic 3PLY Faux...|Musical Instruments|          5|            0|          0|   N|                Y|Looks great. You ...|On time. Looks gr...| 2015-08-31|\n",
      "|         US|   14108571|R2HUWDNW62FOL3|B00IBOYTUE|     749537231|Audio 2000 6525 3...|Musical Instruments|          1|            0|          0|   N|                Y|  Poor sound quality|I was hoping it w...| 2015-08-31|\n",
      "|         US|   27314089|R1KSU30XZGR452|B00FBRUSAE|     792472601|Sawtooth ST-AMP-1...|Musical Instruments|          5|            0|          0|   N|                Y|Perfect for the b...|Good sound for it...| 2015-08-31|\n",
      "|         US|   16735445|R2TZVLLTSHA07N|B0113D2QUO|     269114019|Upado Unlimited G...|Musical Instruments|          5|            1|          1|   N|                Y|It really is a mu...|Wow! I didn't exp...| 2015-08-31|\n",
      "+-----------+-----------+--------------+----------+--------------+--------------------+-------------------+-----------+-------------+-----------+----+-----------------+--------------------+--------------------+-----------+\n",
      "only showing top 20 rows\n",
      "\n"
     ]
    }
   ],
   "source": [
    "from pyspark import SparkFiles\n",
    "url = \"https://s3.amazonaws.com/amazon-reviews-pds/tsv/amazon_reviews_us_Musical_Instruments_v1_00.tsv.gz\"\n",
    "spark.sparkContext.addFile(url)\n",
    "df = spark.read.option(\"encoding\", \"UTF-8\").csv(SparkFiles.get(\"amazon_reviews_us_Musical_Instruments_v1_00.tsv.gz\"), sep=\"\\t\", header=True, inferSchema=True)\n",
    "df.show()"
   ]
  },
  {
   "cell_type": "code",
   "execution_count": 28,
   "metadata": {
    "colab": {
     "base_uri": "https://localhost:8080/"
    },
    "executionInfo": {
     "elapsed": 5229,
     "status": "ok",
     "timestamp": 1645500651262,
     "user": {
      "displayName": "Marcio Ciano",
      "photoUrl": "https://lh3.googleusercontent.com/a-/AOh14GhA9U2b1fqTXfRFydiRaZR1NyApGFXApOw4EToOIVU=s64",
      "userId": "15135319980514283613"
     },
     "user_tz": 300
    },
    "id": "sqMSP0Y7dQPr",
    "outputId": "c7ccbfd3-8345-4cd8-9313-55e58fd9b461"
   },
   "outputs": [
    {
     "name": "stdout",
     "output_type": "stream",
     "text": [
      "+--------------+-----------+-------------+-----------+----+-----------------+\n",
      "|     review_id|star_rating|helpful_votes|total_votes|vine|verified_purchase|\n",
      "+--------------+-----------+-------------+-----------+----+-----------------+\n",
      "| RMDCHWD0Y5OZ9|          3|            0|          1|   N|                N|\n",
      "| RZSL0BALIYUNU|          5|            0|          0|   N|                Y|\n",
      "| RIZR67JKUDBI0|          3|            0|          1|   N|                Y|\n",
      "|R27HL570VNL85F|          5|            0|          0|   N|                Y|\n",
      "|R34EBU9QDWJ1GD|          5|            0|          0|   N|                Y|\n",
      "|R1WCUI4Z1SIQEO|          5|            0|          0|   N|                N|\n",
      "| RL5LNO26GAVJ1|          2|            3|          4|   N|                Y|\n",
      "|R3GYQ5W8JHP8SB|          5|            0|          0|   N|                Y|\n",
      "|R30SHYQXGG5EYC|          5|            0|          0|   N|                Y|\n",
      "|R14YLXA56NP51I|          5|            1|          1|   N|                N|\n",
      "|R1ZH0HSH38IOTZ|          5|            0|          0|   N|                Y|\n",
      "|R3H53KLLC210XI|          4|            0|          0|   N|                Y|\n",
      "|R3OOR877NGA8JK|          3|            0|          0|   N|                Y|\n",
      "|R1BY7WKOZ3KMH0|          2|            0|          0|   N|                Y|\n",
      "| RXP1TFSWE8EG9|          5|            0|          0|   N|                Y|\n",
      "|R3J44DPP12OTLJ|          5|            0|          0|   N|                Y|\n",
      "| RFOV69SK0T676|          5|            0|          0|   N|                Y|\n",
      "|R2HUWDNW62FOL3|          1|            0|          0|   N|                Y|\n",
      "|R1KSU30XZGR452|          5|            0|          0|   N|                Y|\n",
      "|R2TZVLLTSHA07N|          5|            1|          1|   N|                Y|\n",
      "+--------------+-----------+-------------+-----------+----+-----------------+\n",
      "only showing top 20 rows\n",
      "\n"
     ]
    },
    {
     "data": {
      "text/plain": [
       "904765"
      ]
     },
     "execution_count": 28,
     "metadata": {},
     "output_type": "execute_result"
    }
   ],
   "source": [
    "# Create the vine_table. DataFrame\n",
    "vine_df = df.select(['review_id',\"star_rating\",\"helpful_votes\",\"total_votes\",\"vine\",\"verified_purchase\"])\n",
    "vine_df.show()\n",
    "vine_df.count()"
   ]
  },
  {
   "cell_type": "markdown",
   "metadata": {
    "id": "2yUSe55VY-9t"
   },
   "source": [
    "### Filter the data and create a new DataFrame"
   ]
  },
  {
   "cell_type": "code",
   "execution_count": 29,
   "metadata": {
    "colab": {
     "base_uri": "https://localhost:8080/"
    },
    "executionInfo": {
     "elapsed": 5986,
     "status": "ok",
     "timestamp": 1645500782060,
     "user": {
      "displayName": "Marcio Ciano",
      "photoUrl": "https://lh3.googleusercontent.com/a-/AOh14GhA9U2b1fqTXfRFydiRaZR1NyApGFXApOw4EToOIVU=s64",
      "userId": "15135319980514283613"
     },
     "user_tz": 300
    },
    "id": "crQtBaFOdQFI",
    "outputId": "952df6e7-5d61-4aa7-b86b-81aeda8f1a9c"
   },
   "outputs": [
    {
     "name": "stdout",
     "output_type": "stream",
     "text": [
      "+--------------+-----------+-------------+-----------+----+-----------------+\n",
      "|     review_id|star_rating|helpful_votes|total_votes|vine|verified_purchase|\n",
      "+--------------+-----------+-------------+-----------+----+-----------------+\n",
      "|R2243Y3OD8U6KQ|          5|           47|         61|   N|                N|\n",
      "|R2TGT0CDTCAAHW|          5|           21|         23|   N|                Y|\n",
      "| RX4D22YSXEF4P|          1|           37|         38|   N|                Y|\n",
      "|R3FL2NTLFUSPTQ|          5|           33|         37|   N|                N|\n",
      "|R3QTP3YNZXAPPF|          3|           23|         24|   N|                Y|\n",
      "|R36V6V42VN5AS5|          5|           34|         37|   N|                Y|\n",
      "|R27LZWE27BJPOB|          5|           22|         23|   N|                N|\n",
      "|  RMRD6SMF2AUQ|          3|            4|         21|   N|                N|\n",
      "| RMPCXKWX3T57Y|          1|            1|         73|   N|                N|\n",
      "|R1P7GJ0IN2BRNH|          5|           37|         37|   N|                Y|\n",
      "|R2R6JPF9KOD2HJ|          5|           19|         20|   N|                Y|\n",
      "|R3JM8Z4SP9N3H2|          1|            4|         23|   N|                N|\n",
      "|R2J0ZZGFXKM8KR|          2|           21|         22|   N|                Y|\n",
      "|R238ZSG6TSUBNX|          5|           27|         27|   N|                Y|\n",
      "|R37WGVXA94D62S|          2|            4|         20|   N|                Y|\n",
      "| RC6Y8GYIQZ8YU|          3|           72|         85|   N|                Y|\n",
      "| RFL3TJED8C240|          5|           13|         24|   N|                N|\n",
      "|R3D4P7A8Q1C70F|          5|           22|         27|   N|                Y|\n",
      "|R3PRNAQVQBB9M6|          1|           21|         30|   N|                Y|\n",
      "|R2NTTIW5KBKLYG|          5|           19|         20|   N|                N|\n",
      "+--------------+-----------+-------------+-----------+----+-----------------+\n",
      "only showing top 20 rows\n",
      "\n"
     ]
    },
    {
     "data": {
      "text/plain": [
       "16520"
      ]
     },
     "execution_count": 29,
     "metadata": {},
     "output_type": "execute_result"
    }
   ],
   "source": [
    "# 1. Filter DataFrame for total_votes above or equal to 20\n",
    "\n",
    "vote_count_df = vine_df.filter(vine_df.total_votes >= 20)\n",
    "vote_count_df.show()\n",
    "vote_count_df.count()"
   ]
  },
  {
   "cell_type": "code",
   "execution_count": 30,
   "metadata": {
    "colab": {
     "base_uri": "https://localhost:8080/"
    },
    "executionInfo": {
     "elapsed": 5622,
     "status": "ok",
     "timestamp": 1645501035139,
     "user": {
      "displayName": "Marcio Ciano",
      "photoUrl": "https://lh3.googleusercontent.com/a-/AOh14GhA9U2b1fqTXfRFydiRaZR1NyApGFXApOw4EToOIVU=s64",
      "userId": "15135319980514283613"
     },
     "user_tz": 300
    },
    "id": "IIOTPRrldQHm",
    "outputId": "79fe01d3-4b3a-4696-eef3-080045c23ee1"
   },
   "outputs": [
    {
     "name": "stdout",
     "output_type": "stream",
     "text": [
      "+--------------+-----------+-------------+-----------+----+-----------------+\n",
      "|     review_id|star_rating|helpful_votes|total_votes|vine|verified_purchase|\n",
      "+--------------+-----------+-------------+-----------+----+-----------------+\n",
      "|R2243Y3OD8U6KQ|          5|           47|         61|   N|                N|\n",
      "|R2TGT0CDTCAAHW|          5|           21|         23|   N|                Y|\n",
      "| RX4D22YSXEF4P|          1|           37|         38|   N|                Y|\n",
      "|R3FL2NTLFUSPTQ|          5|           33|         37|   N|                N|\n",
      "|R3QTP3YNZXAPPF|          3|           23|         24|   N|                Y|\n",
      "|R36V6V42VN5AS5|          5|           34|         37|   N|                Y|\n",
      "|R27LZWE27BJPOB|          5|           22|         23|   N|                N|\n",
      "|R1P7GJ0IN2BRNH|          5|           37|         37|   N|                Y|\n",
      "|R2R6JPF9KOD2HJ|          5|           19|         20|   N|                Y|\n",
      "|R2J0ZZGFXKM8KR|          2|           21|         22|   N|                Y|\n",
      "|R238ZSG6TSUBNX|          5|           27|         27|   N|                Y|\n",
      "| RC6Y8GYIQZ8YU|          3|           72|         85|   N|                Y|\n",
      "| RFL3TJED8C240|          5|           13|         24|   N|                N|\n",
      "|R3D4P7A8Q1C70F|          5|           22|         27|   N|                Y|\n",
      "|R3PRNAQVQBB9M6|          1|           21|         30|   N|                Y|\n",
      "|R2NTTIW5KBKLYG|          5|           19|         20|   N|                N|\n",
      "|R3JNDLZ3KACRLG|          5|           29|         33|   N|                N|\n",
      "|R1PVVYYY0Q1HZ0|          5|           21|         21|   N|                Y|\n",
      "|R1R9RU7JW0MFR2|          4|           20|         23|   Y|                N|\n",
      "|R1G9N0CW2982PA|          5|           21|         24|   N|                Y|\n",
      "+--------------+-----------+-------------+-----------+----+-----------------+\n",
      "only showing top 20 rows\n",
      "\n"
     ]
    },
    {
     "data": {
      "text/plain": [
       "14537"
      ]
     },
     "execution_count": 30,
     "metadata": {},
     "output_type": "execute_result"
    }
   ],
   "source": [
    "# 2. Create a DataFrame or table to retrieve all the rows where the number of helpful_votes divided by total_votes is \n",
    "# equal to or greater than 50%.\n",
    "\n",
    "voting_percent_df = vote_count_df.filter((vote_count_df.helpful_votes/vote_count_df.total_votes)>= 0.5)\n",
    "voting_percent_df.show()\n",
    "voting_percent_df.count()"
   ]
  },
  {
   "cell_type": "code",
   "execution_count": 31,
   "metadata": {
    "colab": {
     "base_uri": "https://localhost:8080/"
    },
    "executionInfo": {
     "elapsed": 7926,
     "status": "ok",
     "timestamp": 1645501133442,
     "user": {
      "displayName": "Marcio Ciano",
      "photoUrl": "https://lh3.googleusercontent.com/a-/AOh14GhA9U2b1fqTXfRFydiRaZR1NyApGFXApOw4EToOIVU=s64",
      "userId": "15135319980514283613"
     },
     "user_tz": 300
    },
    "id": "Tmw-9M5ddQKE",
    "outputId": "24c27263-6fc0-4f42-add7-a3ae0795df1f"
   },
   "outputs": [
    {
     "name": "stdout",
     "output_type": "stream",
     "text": [
      "+--------------+-----------+-------------+-----------+----+-----------------+\n",
      "|     review_id|star_rating|helpful_votes|total_votes|vine|verified_purchase|\n",
      "+--------------+-----------+-------------+-----------+----+-----------------+\n",
      "|R1R9RU7JW0MFR2|          4|           20|         23|   Y|                N|\n",
      "|R19EFYNN3W8Q07|          5|           26|         32|   Y|                N|\n",
      "|R34DJ1R8AEU0SG|          5|           29|         35|   Y|                N|\n",
      "|R25P5CXK5L9RHF|          5|          146|        161|   Y|                N|\n",
      "|R2E9VZB3I4LSN5|          5|           55|         59|   Y|                N|\n",
      "| RKYLHZL7EPELX|          4|           19|         25|   Y|                N|\n",
      "|R1U13EKGQD3ZE6|          5|           22|         25|   Y|                N|\n",
      "| RYW05F1MUEF01|          5|           87|        102|   Y|                N|\n",
      "|R2SW4NXNO7HZJ5|          4|           28|         33|   Y|                N|\n",
      "|R2016NFLSUR97Y|          2|           26|         37|   Y|                N|\n",
      "| RFCV9QXJ3D79X|          3|           20|         22|   Y|                N|\n",
      "|R36779ZAY4ZT0Y|          3|           46|         50|   Y|                N|\n",
      "|R13PPTBWWV10Q6|          5|           19|         25|   Y|                N|\n",
      "|R2A3FFNJTDUBMV|          5|           20|         27|   Y|                N|\n",
      "|R3QQG4HUB214TM|          5|          111|        128|   Y|                N|\n",
      "|R3J9OSJNJB7KGM|          5|           70|         80|   Y|                N|\n",
      "| RIMYDUAAFXY2U|          5|           22|         23|   Y|                N|\n",
      "|R22CYBPLKWDK6F|          5|           47|         54|   Y|                N|\n",
      "|R1ETBDZ1LJ8CEL|          4|           28|         32|   Y|                N|\n",
      "|R28T5ISQ8AA7E5|          5|           40|         42|   Y|                N|\n",
      "+--------------+-----------+-------------+-----------+----+-----------------+\n",
      "only showing top 20 rows\n",
      "\n"
     ]
    },
    {
     "data": {
      "text/plain": [
       "60"
      ]
     },
     "execution_count": 31,
     "metadata": {},
     "output_type": "execute_result"
    }
   ],
   "source": [
    "# 3. Create a DataFrame that retrieves all the rows where a review was written as part of the Vine program (paid)\n",
    "\n",
    "paid_reviews_df = voting_percent_df.filter(voting_percent_df.vine == \"Y\")\n",
    "paid_reviews_df.show()\n",
    "paid_reviews_df.count()"
   ]
  },
  {
   "cell_type": "code",
   "execution_count": 33,
   "metadata": {
    "colab": {
     "base_uri": "https://localhost:8080/"
    },
    "executionInfo": {
     "elapsed": 5713,
     "status": "ok",
     "timestamp": 1645501227011,
     "user": {
      "displayName": "Marcio Ciano",
      "photoUrl": "https://lh3.googleusercontent.com/a-/AOh14GhA9U2b1fqTXfRFydiRaZR1NyApGFXApOw4EToOIVU=s64",
      "userId": "15135319980514283613"
     },
     "user_tz": 300
    },
    "id": "aBZ6kFyzdQM3",
    "outputId": "b24011db-2124-4019-953f-2b3dd92480e3"
   },
   "outputs": [
    {
     "name": "stdout",
     "output_type": "stream",
     "text": [
      "+--------------+-----------+-------------+-----------+----+-----------------+\n",
      "|     review_id|star_rating|helpful_votes|total_votes|vine|verified_purchase|\n",
      "+--------------+-----------+-------------+-----------+----+-----------------+\n",
      "|R2243Y3OD8U6KQ|          5|           47|         61|   N|                N|\n",
      "|R2TGT0CDTCAAHW|          5|           21|         23|   N|                Y|\n",
      "| RX4D22YSXEF4P|          1|           37|         38|   N|                Y|\n",
      "|R3FL2NTLFUSPTQ|          5|           33|         37|   N|                N|\n",
      "|R3QTP3YNZXAPPF|          3|           23|         24|   N|                Y|\n",
      "|R36V6V42VN5AS5|          5|           34|         37|   N|                Y|\n",
      "|R27LZWE27BJPOB|          5|           22|         23|   N|                N|\n",
      "|R1P7GJ0IN2BRNH|          5|           37|         37|   N|                Y|\n",
      "|R2R6JPF9KOD2HJ|          5|           19|         20|   N|                Y|\n",
      "|R2J0ZZGFXKM8KR|          2|           21|         22|   N|                Y|\n",
      "|R238ZSG6TSUBNX|          5|           27|         27|   N|                Y|\n",
      "| RC6Y8GYIQZ8YU|          3|           72|         85|   N|                Y|\n",
      "| RFL3TJED8C240|          5|           13|         24|   N|                N|\n",
      "|R3D4P7A8Q1C70F|          5|           22|         27|   N|                Y|\n",
      "|R3PRNAQVQBB9M6|          1|           21|         30|   N|                Y|\n",
      "|R2NTTIW5KBKLYG|          5|           19|         20|   N|                N|\n",
      "|R3JNDLZ3KACRLG|          5|           29|         33|   N|                N|\n",
      "|R1PVVYYY0Q1HZ0|          5|           21|         21|   N|                Y|\n",
      "|R1G9N0CW2982PA|          5|           21|         24|   N|                Y|\n",
      "|R2N8ZFHQBWHMDL|          2|           26|         28|   N|                Y|\n",
      "+--------------+-----------+-------------+-----------+----+-----------------+\n",
      "only showing top 20 rows\n",
      "\n"
     ]
    },
    {
     "data": {
      "text/plain": [
       "14477"
      ]
     },
     "execution_count": 33,
     "metadata": {},
     "output_type": "execute_result"
    }
   ],
   "source": [
    "# 4. Create a DataFrame that retrieves all the rows where a review was written as part of the Vine program (unpaid)\n",
    "\n",
    "unpaid_reviews_df = voting_percent_df.filter(voting_percent_df.vine == \"N\")\n",
    "unpaid_reviews_df.show()\n",
    "unpaid_reviews_df.count()"
   ]
  },
  {
   "cell_type": "code",
   "execution_count": 34,
   "metadata": {
    "colab": {
     "base_uri": "https://localhost:8080/"
    },
    "executionInfo": {
     "elapsed": 5814,
     "status": "ok",
     "timestamp": 1645501322242,
     "user": {
      "displayName": "Marcio Ciano",
      "photoUrl": "https://lh3.googleusercontent.com/a-/AOh14GhA9U2b1fqTXfRFydiRaZR1NyApGFXApOw4EToOIVU=s64",
      "userId": "15135319980514283613"
     },
     "user_tz": 300
    },
    "id": "1Geq3sUXN468",
    "outputId": "268d65d6-c252-4be2-a737-6a178c089476"
   },
   "outputs": [
    {
     "data": {
      "text/plain": [
       "14537"
      ]
     },
     "execution_count": 34,
     "metadata": {},
     "output_type": "execute_result"
    }
   ],
   "source": [
    "# Total number of reviews \n",
    "voting_percent_df.count()"
   ]
  },
  {
   "cell_type": "code",
   "execution_count": 35,
   "metadata": {
    "colab": {
     "base_uri": "https://localhost:8080/"
    },
    "executionInfo": {
     "elapsed": 5585,
     "status": "ok",
     "timestamp": 1645501327821,
     "user": {
      "displayName": "Marcio Ciano",
      "photoUrl": "https://lh3.googleusercontent.com/a-/AOh14GhA9U2b1fqTXfRFydiRaZR1NyApGFXApOw4EToOIVU=s64",
      "userId": "15135319980514283613"
     },
     "user_tz": 300
    },
    "id": "yqJqZSrQN5DX",
    "outputId": "ff230652-64f9-4f65-e9d3-7c975e8da69a"
   },
   "outputs": [
    {
     "data": {
      "text/plain": [
       "8246"
      ]
     },
     "execution_count": 35,
     "metadata": {},
     "output_type": "execute_result"
    }
   ],
   "source": [
    "# Total number of 5-star reviews\n",
    "five_stars_df = voting_percent_df.filter(voting_percent_df.star_rating == \"5\")\n",
    "five_stars_df.count()"
   ]
  },
  {
   "cell_type": "code",
   "execution_count": 36,
   "metadata": {
    "colab": {
     "base_uri": "https://localhost:8080/"
    },
    "executionInfo": {
     "elapsed": 5521,
     "status": "ok",
     "timestamp": 1645501333322,
     "user": {
      "displayName": "Marcio Ciano",
      "photoUrl": "https://lh3.googleusercontent.com/a-/AOh14GhA9U2b1fqTXfRFydiRaZR1NyApGFXApOw4EToOIVU=s64",
      "userId": "15135319980514283613"
     },
     "user_tz": 300
    },
    "id": "DmzwHk9cN5IZ",
    "outputId": "c1580c81-b3f1-497a-8fb6-562f99547407"
   },
   "outputs": [
    {
     "data": {
      "text/plain": [
       "34"
      ]
     },
     "execution_count": 36,
     "metadata": {},
     "output_type": "execute_result"
    }
   ],
   "source": [
    "# Total number of paid (Vine Program) 5-star reviews\n",
    "\n",
    "vine_five_df = paid_reviews_df.filter(paid_reviews_df.star_rating == \"5\")\n",
    "vine_five_df.count()"
   ]
  },
  {
   "cell_type": "code",
   "execution_count": 37,
   "metadata": {
    "colab": {
     "base_uri": "https://localhost:8080/"
    },
    "executionInfo": {
     "elapsed": 5241,
     "status": "ok",
     "timestamp": 1645501338536,
     "user": {
      "displayName": "Marcio Ciano",
      "photoUrl": "https://lh3.googleusercontent.com/a-/AOh14GhA9U2b1fqTXfRFydiRaZR1NyApGFXApOw4EToOIVU=s64",
      "userId": "15135319980514283613"
     },
     "user_tz": 300
    },
    "id": "NZi2xGqPRlgx",
    "outputId": "78442888-e65f-4ced-f5c5-1842bf1b3d41"
   },
   "outputs": [
    {
     "data": {
      "text/plain": [
       "8212"
      ]
     },
     "execution_count": 37,
     "metadata": {},
     "output_type": "execute_result"
    }
   ],
   "source": [
    "# Total number of unpaid 5-star reviews\n",
    "other_five_df = unpaid_reviews_df.filter(unpaid_reviews_df.star_rating == \"5\")\n",
    "other_five_df.count()"
   ]
  },
  {
   "cell_type": "code",
   "execution_count": null,
   "metadata": {
    "colab": {
     "base_uri": "https://localhost:8080/"
    },
    "executionInfo": {
     "elapsed": 11035,
     "status": "ok",
     "timestamp": 1645497638766,
     "user": {
      "displayName": "Marcio Ciano",
      "photoUrl": "https://lh3.googleusercontent.com/a-/AOh14GhA9U2b1fqTXfRFydiRaZR1NyApGFXApOw4EToOIVU=s64",
      "userId": "15135319980514283613"
     },
     "user_tz": 300
    },
    "id": "Jw4fgC7KR1vx",
    "outputId": "397bd077-559c-4942-a362-54b06b29a1d5"
   },
   "outputs": [
    {
     "name": "stdout",
     "output_type": "stream",
     "text": [
      "56.67%\n"
     ]
    }
   ],
   "source": [
    "# Percentage of paid (Vine Program) 5-star reviews\n",
    "\n",
    "paid_5star_review_percent = vine_five_df.count() / paid_reviews_df.count() *100\n",
    "\n",
    "print(str(round(paid_5star_review_percent,2))+ \"%\")"
   ]
  },
  {
   "cell_type": "code",
   "execution_count": null,
   "metadata": {
    "colab": {
     "base_uri": "https://localhost:8080/"
    },
    "executionInfo": {
     "elapsed": 11288,
     "status": "ok",
     "timestamp": 1645497766337,
     "user": {
      "displayName": "Marcio Ciano",
      "photoUrl": "https://lh3.googleusercontent.com/a-/AOh14GhA9U2b1fqTXfRFydiRaZR1NyApGFXApOw4EToOIVU=s64",
      "userId": "15135319980514283613"
     },
     "user_tz": 300
    },
    "id": "XnEQHmf9SXlY",
    "outputId": "bd99b883-d807-4b14-a9f5-78caf74376eb"
   },
   "outputs": [
    {
     "name": "stdout",
     "output_type": "stream",
     "text": [
      "56.72%\n"
     ]
    }
   ],
   "source": [
    "# Percentage of unpaid 5-star reviews\n",
    "unpaid_5star_review_percent = other_five_df.count() / unpaid_reviews_df.count() *100\n",
    "\n",
    "print(str(round(unpaid_5star_review_percent,2))+ \"%\")"
   ]
  }
 ],
 "metadata": {
  "colab": {
   "collapsed_sections": [],
   "name": "Vine_Review_Analysis.ipynb",
   "provenance": []
  },
  "kernelspec": {
   "display_name": "Python 3 (ipykernel)",
   "language": "python",
   "name": "python3"
  },
  "language_info": {
   "codemirror_mode": {
    "name": "ipython",
    "version": 3
   },
   "file_extension": ".py",
   "mimetype": "text/x-python",
   "name": "python",
   "nbconvert_exporter": "python",
   "pygments_lexer": "ipython3",
   "version": "3.8.8"
  },
  "nteract": {
   "version": "0.12.3"
  }
 },
 "nbformat": 4,
 "nbformat_minor": 1
}
